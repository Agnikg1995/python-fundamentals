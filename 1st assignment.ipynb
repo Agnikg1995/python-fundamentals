{
 "cells": [
  {
   "cell_type": "code",
   "execution_count": 16,
   "id": "35a975bf-e17b-4397-8f9d-6fb4fa6c60a3",
   "metadata": {},
   "outputs": [
    {
     "name": "stdout",
     "output_type": "stream",
     "text": [
      "Bob\n",
      "ST1001\n",
      "bob@gmail.com\n"
     ]
    }
   ],
   "source": [
    "\n",
    "print(\"Bob\")\n",
    "print(\"ST1001\")\n",
    "print(\"bob@gmail.com\")\n"
   ]
  },
  {
   "cell_type": "code",
   "execution_count": 18,
   "id": "23e7430b-1b14-4e6b-affe-b9aa31ceb6bc",
   "metadata": {},
   "outputs": [
    {
     "name": "stdout",
     "output_type": "stream",
     "text": [
      "Bob\n",
      "ST1001\n",
      "bob@gmail.com\n"
     ]
    }
   ],
   "source": [
    "\n",
    "print(\"Bob\\nST1001\\nbob@gmail.com\")\n"
   ]
  },
  {
   "cell_type": "code",
   "execution_count": 20,
   "id": "9407cd8e-79cb-45d5-85da-a5db589760b2",
   "metadata": {},
   "outputs": [
    {
     "name": "stdout",
     "output_type": "stream",
     "text": [
      "14 + 7 = 21\n",
      "14 * 7 = 98\n",
      "14 - 7 = 7\n",
      "14 / 7 = 2.0\n"
     ]
    }
   ],
   "source": [
    "\n",
    "num1 = 14\n",
    "num2 = 7\n",
    "\n",
    "print(f\"{num1} + {num2} = {num1 + num2}\")\n",
    "print(f\"{num1} * {num2} = {num1 * num2}\")\n",
    "print(f\"{num1} - {num2} = {num1 - num2}\")\n",
    "print(f\"{num1} / {num2} = {num1 / num2}\")\n"
   ]
  },
  {
   "cell_type": "code",
   "execution_count": 22,
   "id": "7e7d400e-115c-4e47-95c6-828135852f5b",
   "metadata": {},
   "outputs": [
    {
     "name": "stdout",
     "output_type": "stream",
     "text": [
      "1\n",
      "2\n",
      "3\n",
      "4\n",
      "5\n"
     ]
    }
   ],
   "source": [
    "\n",
    "for i in range(1, 6):\n",
    "    print(i)\n"
   ]
  },
  {
   "cell_type": "code",
   "execution_count": 24,
   "id": "19839a5f-0887-4fed-85af-92c5dd320fb6",
   "metadata": {},
   "outputs": [
    {
     "name": "stdout",
     "output_type": "stream",
     "text": [
      "\"SDK\" stands for \"Software Development Kit\", whereas\n",
      "\"IDE\" stands for \"Integrated Development Environment\".\n"
     ]
    }
   ],
   "source": [
    "\n",
    "print(\"\\\"SDK\\\" stands for \\\"Software Development Kit\\\", whereas\\n\\\"IDE\\\" stands for \\\"Integrated Development Environment\\\".\")\n"
   ]
  },
  {
   "cell_type": "code",
   "execution_count": 26,
   "id": "c6822ab7-aefa-416a-bc03-07fa05289e72",
   "metadata": {},
   "outputs": [
    {
     "name": "stdout",
     "output_type": "stream",
     "text": [
      "python is an \"awesome\" language.\n",
      "python\n",
      "\t2023\n",
      "I'm from Entri\n",
      "5\n",
      "e\n",
      "Entri\n",
      "2023\n",
      "Entr2023\n",
      "Entri*20"
     ]
    }
   ],
   "source": [
    "\n",
    "print(\"python is an \\\"awesome\\\" language.\")\n",
    "print(\"python\\n\\t2023\")\n",
    "print('I\\'m from Entri.\\b')\n",
    "print(\"\\65\")     \n",
    "print(\"\\x65\")     \n",
    "print(\"Entri\", \"2023\", sep=\"\\n\")\n",
    "print(\"Entri\", \"2023\", sep=\"\\b\")\n",
    "print(\"Entri\", \"2023\", sep=\"*\", end=\"\\b\\b\\b\\b\")\n"
   ]
  },
  {
   "cell_type": "code",
   "execution_count": 32,
   "id": "489575de-bb01-451a-9273-c1edc48fd3aa",
   "metadata": {},
   "outputs": [
    {
     "name": "stdout",
     "output_type": "stream",
     "text": [
      "<class 'int'>\n",
      "<class 'str'>\n",
      "<class 'float'>\n",
      "The sum is: 178.3\n",
      "The type of the sum is: <class 'float'>\n"
     ]
    }
   ],
   "source": [
    "\n",
    "num = 23\n",
    "textnum = \"57\"\n",
    "decimal = 98.3\n",
    "\n",
    "\n",
    "print(type(num))\n",
    "print(type(textnum))\n",
    "print(type(decimal))\n",
    "\n",
    "\n",
    "sum_variables = num + int(textnum) + decimal\n",
    "print(f\"The sum is: {sum_variables}\")\n",
    "print(f\"The type of the sum is: {type(sum_variables)}\")\n"
   ]
  },
  {
   "cell_type": "code",
   "execution_count": 36,
   "id": "62769c70-44d3-4261-b4e3-598b6e78299d",
   "metadata": {},
   "outputs": [
    {
     "name": "stdout",
     "output_type": "stream",
     "text": [
      "There are 525600 minutes in a year.\n"
     ]
    }
   ],
   "source": [
    "\n",
    "days_in_year = 365\n",
    "hours_in_day = 24\n",
    "minutes_in_hour = 60\n",
    "\n",
    "\n",
    "total_minutes = days_in_year * hours_in_day * minutes_in_hour\n",
    "print(f\"There are {total_minutes} minutes in a year.\")\n"
   ]
  },
  {
   "cell_type": "code",
   "execution_count": 38,
   "id": "77264b7c-8de1-4f51-ac4d-f87532c70940",
   "metadata": {},
   "outputs": [
    {
     "name": "stdin",
     "output_type": "stream",
     "text": [
      "Please enter your name:  Agni\n"
     ]
    },
    {
     "name": "stdout",
     "output_type": "stream",
     "text": [
      "Hi Agni, welcome to Python programming :)\n"
     ]
    }
   ],
   "source": [
    "\n",
    "name = input(\"Please enter your name: \")\n",
    "print(f\"Hi {name}, welcome to Python programming :)\")\n"
   ]
  },
  {
   "cell_type": "code",
   "execution_count": 40,
   "id": "2e553f33-9c95-4f3a-9060-6009f28f4953",
   "metadata": {},
   "outputs": [
    {
     "name": "stdin",
     "output_type": "stream",
     "text": [
      "Please enter amount in pounds: £ 100\n"
     ]
    },
    {
     "name": "stdout",
     "output_type": "stream",
     "text": [
      "£100.0 are $139.00\n"
     ]
    }
   ],
   "source": [
    "\n",
    "pounds = float(input(\"Please enter amount in pounds: £\"))\n",
    "conversion_rate = 1.39  \n",
    "dollars = pounds * conversion_rate\n",
    "print(f\"£{pounds} are ${dollars:.2f}\")\n"
   ]
  }
 ],
 "metadata": {
  "kernelspec": {
   "display_name": "Python 3 (ipykernel)",
   "language": "python",
   "name": "python3"
  },
  "language_info": {
   "codemirror_mode": {
    "name": "ipython",
    "version": 3
   },
   "file_extension": ".py",
   "mimetype": "text/x-python",
   "name": "python",
   "nbconvert_exporter": "python",
   "pygments_lexer": "ipython3",
   "version": "3.12.4"
  }
 },
 "nbformat": 4,
 "nbformat_minor": 5
}
